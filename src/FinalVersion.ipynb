{
 "cells": [
  {
   "cell_type": "markdown",
   "metadata": {},
   "source": [
    "##  Import the necessary modules.<br>\n",
    "Note: should you not have any of these packages installed, please use the following commands:<br>\n",
    "pip install opencv-python<br>\n",
    "pip install numpy<br>\n",
    "pip install matplotlib<br>\n",
    "pip install scikit-image<br>\n",
    "pip install basicsudoku<br>"
   ]
  },
  {
   "cell_type": "code",
   "execution_count": 4,
   "metadata": {},
   "outputs": [],
   "source": [
    "import os.path\n",
    "import sys\n",
    "import cv2 as cv\n",
    "import numpy as np\n",
    "import matplotlib.pyplot as plt\n",
    "from skimage import io,morphology,measure\n",
    "from skimage.metrics import structural_similarity as ssim\n",
    "import basicsudoku\n",
    "import operator"
   ]
  },
  {
   "cell_type": "markdown",
   "metadata": {},
   "source": [
    "In order to solve a sudoku puzzle in an image, please set the variable image to the name of the image containing the puzzle. To test the program, please use one of the images in the images folder. The naming convention is \"image\" and the number of the image (between 1 -50)"
   ]
  },
  {
   "cell_type": "code",
   "execution_count": 5,
   "metadata": {},
   "outputs": [],
   "source": [
    "image=\"image23\"\n",
    "#Import the image\n",
    "org_puzzle=cv.imread(\"../Images/\"+image+\".jpg\",0)\n",
    "#Resize the image to a more manageable size\n",
    "puzzle=cv.resize(org_puzzle,(990,990),interpolation=cv.INTER_AREA)\n",
    "# Threshold the image such pixels with an intensity less than 70 gets mapped to \n",
    "#0 and pixels with an intensity greater than 70 gests mapped to 255\n",
    "thr=cv.threshold(puzzle,70,255,cv.THRESH_BINARY_INV)[1]#"
   ]
  },
  {
   "cell_type": "markdown",
   "metadata": {},
   "source": [
    "Define a cross structuring element (with size 3x3) which we use to perform an opening operation followed by a dilation operation. This is for noise removal purposes.\n"
   ]
  },
  {
   "cell_type": "code",
   "execution_count": 6,
   "metadata": {},
   "outputs": [],
   "source": [
    "cross=np.array([\n",
    "    [0,1,0],\n",
    "    [1,1,1],\n",
    "    [0,1,0]\n",
    "]).astype(np.uint8)"
   ]
  },
  {
   "cell_type": "markdown",
   "metadata": {},
   "source": [
    "Perform noise removal\n"
   ]
  },
  {
   "cell_type": "code",
   "execution_count": 7,
   "metadata": {},
   "outputs": [],
   "source": [
    "result=cv.erode(thr,cross,borderType=cv.BORDER_CONSTANT)\n",
    "result=cv.dilate(result,cross,borderType=cv.BORDER_CONSTANT)\n",
    "result=cv.dilate(result,cross,borderType=cv.BORDER_CONSTANT)\n",
    "thr=result"
   ]
  },
  {
   "cell_type": "markdown",
   "metadata": {},
   "source": [
    "Define a function to compute the Euclidean Distance between 2 points."
   ]
  },
  {
   "cell_type": "code",
   "execution_count": 8,
   "metadata": {},
   "outputs": [],
   "source": [
    "def Euclidean_distance(point1, point2):\n",
    "    return np.sqrt(((point2[0]-point1[0]) ** 2) + ((point2[1]-point1[1]) ** 2))"
   ]
  },
  {
   "cell_type": "markdown",
   "metadata": {},
   "source": [
    "Process the contours of the image and locate the corners of the grid in the old region and define our new (square) region. This is the pre-processing required for performing the perspective transformation in the next step."
   ]
  },
  {
   "cell_type": "code",
   "execution_count": 9,
   "metadata": {},
   "outputs": [],
   "source": [
    "contours, h = cv.findContours(thr.copy(), cv.RETR_EXTERNAL, cv.CHAIN_APPROX_SIMPLE)\n",
    "contours = sorted(contours, key=cv.contourArea, reverse=True)\n",
    "large_square = contours[0]\n",
    "\n",
    "\n",
    "bottom_right, _ = max(enumerate([point[0][0] + point[0][1] for point in large_square]), key=operator.itemgetter(1))\n",
    "top_left, _ = min(enumerate([point[0][0] + point[0][1] for point in large_square]), key=operator.itemgetter(1))\n",
    "bottom_left, _ = min(enumerate([point[0][0] - point[0][1] for point in large_square]), key=operator.itemgetter(1))\n",
    "top_right, _ = max(enumerate([point[0][0] - point[0][1] for point in large_square]), key=operator.itemgetter(1))\n",
    "\n",
    "the_ROI=[large_square[top_left][0], large_square[top_right][0], large_square[bottom_right][0], large_square[bottom_left][0]]\n",
    "\n",
    "top_left, top_right, bottom_right, bottom_left = the_ROI[0], the_ROI[1], the_ROI[2], the_ROI[3]\n",
    "old_square = np.array([top_left, top_right, bottom_right, bottom_left], dtype='float32') \n",
    "long_side = max([ Euclidean_distance(bottom_right, top_right), \n",
    "Euclidean_distance(top_left, bottom_left),\n",
    " Euclidean_distance(bottom_right, bottom_left), \n",
    " Euclidean_distance(top_left, top_right) ])\n",
    "new_square = np.array([[0, 0], [long_side - 1, 0], [long_side - 1, long_side - 1], [0, long_side - 1]], dtype='float32')"
   ]
  },
  {
   "cell_type": "markdown",
   "metadata": {},
   "source": [
    "Perform the perspective transformation and determine the size of the cells in the grid."
   ]
  },
  {
   "cell_type": "code",
   "execution_count": 10,
   "metadata": {},
   "outputs": [],
   "source": [
    "persp_trans = cv.getPerspectiveTransform(old_square, new_square)\n",
    "final_answer=cv.warpPerspective(thr, persp_trans, (int(long_side), int(long_side)))\n",
    "partial_height,partial_width=(int(final_answer.shape[0]/9),int(final_answer.shape[1]/9))"
   ]
  },
  {
   "cell_type": "markdown",
   "metadata": {},
   "source": [
    "Store our templates in a list for easy retrieval when performing template matching."
   ]
  },
  {
   "cell_type": "code",
   "execution_count": 11,
   "metadata": {},
   "outputs": [],
   "source": [
    "templates=[]\n",
    "for i in range(9):\n",
    "    templates.append(cv.imread(\"../data/MeanNumbers/mean_number\"+str(i+1)+\".png\",0))"
   ]
  },
  {
   "cell_type": "markdown",
   "metadata": {},
   "source": [
    "Define an empty sudoku board"
   ]
  },
  {
   "cell_type": "code",
   "execution_count": 12,
   "metadata": {},
   "outputs": [],
   "source": [
    "board = basicsudoku.SudokuBoard() \n",
    "board.strict=False\n",
    "sim_values=np.zeros(9)"
   ]
  },
  {
   "cell_type": "markdown",
   "metadata": {},
   "source": [
    "Process each cell where we extract a cell and determine whether it is empty or not. We determine this by checking if the average intensity of the cell is greater than 20. When we encounter a non-empty cell, we perform template matching with each of the templates and record the max_val(max value) acheived which is returned my cv.minmaxLoc(). This is used as a metrix for determining how well a template corresponds to the contains of the current cell. The template that yields the greatest max_val values determines the value that is entered in the digital grid. Once we process each cell, we have our final digital representation of the sudoku puzzle in the input image."
   ]
  },
  {
   "cell_type": "code",
   "execution_count": 13,
   "metadata": {},
   "outputs": [],
   "source": [
    "for i in range(9):\n",
    "    for j in range(9):\n",
    "        cell=final_answer[i*partial_height+12:(i+1)*partial_height-7,j*partial_width+12:(j+1)*partial_width-7]\n",
    "        if(np.mean(cell)>20):\n",
    "            for k in range(9):\n",
    "                template = templates[k]\n",
    "                res = cv.matchTemplate(cell,template,cv.TM_CCOEFF_NORMED)\n",
    "                min_val, max_val, min_loc, max_loc=cv.minMaxLoc(res)\n",
    "                sim_values[k]=max_val\n",
    "            index=np.where(sim_values==np.max(sim_values))[0]\n",
    "            if(index.size==1):\n",
    "                board[j,i]=int(index+1)"
   ]
  },
  {
   "cell_type": "markdown",
   "metadata": {},
   "source": [
    "Display the results and verify that the results produced are correct. The digital representation is printed below and an external window will open displaying the input image."
   ]
  },
  {
   "cell_type": "code",
   "execution_count": 15,
   "metadata": {},
   "outputs": [
    {
     "name": "stdout",
     "output_type": "stream",
     "text": [
      ". 8 4 | . . 2 | . . .\n",
      ". . . | . . 4 | . 2 .\n",
      ". . 7 | 5 3 . | . . .\n",
      "------+-------+------\n",
      ". . . | . 5 . | . 3 2\n",
      ". 6 . | 4 . 8 | . 9 .\n",
      "8 2 . | . 1 . | . . .\n",
      "------+-------+------\n",
      ". . . | . 9 3 | 7 . .\n",
      ". 4 . | 1 . . | . . .\n",
      ". . . | 7 . . | 3 5 .\n"
     ]
    }
   ],
   "source": [
    "print(board)\n",
    "cv.namedWindow('Input Image',cv.WINDOW_NORMAL)\n",
    "cv.resizeWindow('Input Image', 600,600)\n",
    "cv.imshow(\"Input Image\",org_puzzle)\n",
    "cv.waitKey(0)\n",
    "cv.destroyAllWindows()"
   ]
  },
  {
   "cell_type": "code",
   "execution_count": null,
   "metadata": {},
   "outputs": [],
   "source": []
  }
 ],
 "metadata": {
  "kernelspec": {
   "display_name": "Python 3",
   "language": "python",
   "name": "python3"
  },
  "language_info": {
   "codemirror_mode": {
    "name": "ipython",
    "version": 3
   },
   "file_extension": ".py",
   "mimetype": "text/x-python",
   "name": "python",
   "nbconvert_exporter": "python",
   "pygments_lexer": "ipython3",
   "version": "3.6.8"
  }
 },
 "nbformat": 4,
 "nbformat_minor": 2
}
